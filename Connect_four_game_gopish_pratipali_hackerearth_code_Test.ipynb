{
 "cells": [
  {
   "cell_type": "markdown",
   "metadata": {},
   "source": [
    "# Welcome To Connect Four Game"
   ]
  },
  {
   "cell_type": "markdown",
   "metadata": {},
   "source": [
    "## To start The code follow below steps:- \n",
    "\n",
    "#### Click on Show / Hide code"
   ]
  },
  {
   "cell_type": "code",
   "execution_count": 23,
   "metadata": {},
   "outputs": [
    {
     "data": {
      "text/html": [
       "<script>code_show=true;function code_toggle() {if (code_show){ $('div.input').hide(); } else { $('div.input').show(); } code_show = !code_show} $( document ).ready(code_toggle); </script> <form action=\"javascript:code_toggle()\"><input type=\"submit\" value=\"Show / Hide code.\"></form>"
      ],
      "text/plain": [
       "<IPython.core.display.HTML object>"
      ]
     },
     "execution_count": 23,
     "metadata": {},
     "output_type": "execute_result"
    }
   ],
   "source": [
    "from IPython.display import HTML \n",
    "HTML('''<script>code_show=true;function code_toggle() {if (code_show){ $('div.input').hide(); } else { $('div.input').show(); } code_show = !code_show} $( document ).ready(code_toggle); </script> <form action=\"javascript:code_toggle()\"><input type=\"submit\" value=\"Show / Hide code.\"></form>''')"
   ]
  },
  {
   "cell_type": "code",
   "execution_count": 15,
   "metadata": {},
   "outputs": [
    {
     "name": "stdout",
     "output_type": "stream",
     "text": [
      "Game Exit\n",
      "Thank You\n"
     ]
    }
   ],
   "source": [
    "import numpy as np\n",
    "import pandas as pd\n",
    "from IPython.display import clear_output\n",
    "try:\n",
    "    row_ct = 6\n",
    "    col_ct = 7\n",
    "    def create_game_field():\n",
    "        game_field = np.zeros((row_ct,col_ct))\n",
    "        return game_field\n",
    "\n",
    "    def drop_entry_data(game_field, row, col, entry_data):\n",
    "        game_field[row][col] = entry_data\n",
    "\n",
    "\n",
    "    def validation(game_field, col):\n",
    "        return game_field[row_ct-1][col] == 0 \n",
    "\n",
    "\n",
    "    def get_next_free_row(game_field, col):\n",
    "        for r in range(row_ct):\n",
    "            if game_field[r][col] == 0:\n",
    "                return r\n",
    "\n",
    "    def winning_move(game_field, entry_data):\n",
    "        for c in range(col_ct-3):\n",
    "            for r in range(row_ct):\n",
    "                if game_field[r][c] == entry_data and game_field[r][c+1] == entry_data and game_field[r][c+2] == entry_data and game_field[r][c+3] == entry_data:\n",
    "                    return True\n",
    "\n",
    "        for c in range(col_ct):\n",
    "            for r in range(row_ct-3):\n",
    "                if game_field[r][c] == entry_data and game_field[r+1][c] == entry_data and game_field[r+2][c] == entry_data and game_field[r+3][c] == entry_data:\n",
    "                    return True\n",
    "\n",
    "        for c in range(col_ct-3):\n",
    "            for r in range(row_ct-3):\n",
    "                if game_field[r][c] == entry_data and game_field[r+1][c+1] == entry_data and game_field[r+2][c+2] == entry_data and game_field[r+3][c+3] == entry_data:\n",
    "                    return True\n",
    "\n",
    "        for c in range(col_ct-3):\n",
    "            for r in range(3, row_ct):\n",
    "                if game_field[r][c] == entry_data and game_field[r-1][c+1] == entry_data and game_field[r-2][c+2] == entry_data and game_field[r-3][c+3] == entry_data:\n",
    "                    return True\n",
    "\n",
    "\n",
    "\n",
    "    def print_game_field(game_field):\n",
    "        li_game_op = (np.flip(game_field,0)).tolist()\n",
    "        output = [str(cc).replace(\"1.0\",\"Y\").replace(\"0.0\",\"_\").replace(\"2.0\",\"R\").replace(\",\",\"\") for cc in li_game_op]\n",
    "        if counter_op_clear >0:\n",
    "                clear_output(wait=True)\n",
    "        df = pd.DataFrame(output)\n",
    "        print(df)\n",
    "\n",
    "\n",
    "\n",
    "\n",
    "    counter_op_clear = 0\n",
    "    print(\"Let's play New GAME\")\n",
    "    game_field = create_game_field()\n",
    "    print_game_field(game_field)\n",
    "    game_over = False\n",
    "    turn = 0\n",
    "    flag = 2\n",
    "    while not game_over:\n",
    "        flag = 2\n",
    "        counter_op_clear = 1\n",
    "        if turn == 0:\n",
    "            col = int(input(\"Player Yellow Make Selection between 0-6\\nor enter any char (ex: a,b....) to exit from game\\n\"))\n",
    "            if (col>-1 and col<=6) and validation(game_field,col):\n",
    "                row = get_next_free_row(game_field,col)\n",
    "                drop_entry_data(game_field,row,col,1)\n",
    "                if winning_move(game_field,1):\n",
    "                    #print(\"\\nYellow Wins\\n\")\n",
    "                    print_game_field(game_field)\n",
    "                    print(\"\\nYellow Wins\\n\")\n",
    "                    ch = input(\"Enter 1 for Restart\\nEnter any other key for Exit\\n\")\n",
    "                    clear_output(wait=True)\n",
    "                    if ch == '1':\n",
    "                        counter_op_clear = 0\n",
    "                        #clear_output(wait=True)\n",
    "                        print(\"Let's play New GAME\")\n",
    "                        game_field = create_game_field()\n",
    "                        game_over = False\n",
    "                        turn = 1\n",
    "                        flag = 2\n",
    "                    else:\n",
    "                        game_over = True\n",
    "                        clear_output(wait=True)\n",
    "                        print(\"Game Exit\\nThank You\")\n",
    "                        break\n",
    "            else:\n",
    "                print(\"You have entered In-valid choice Please enter valid choice\")\n",
    "                flag = 0\n",
    "        else:\n",
    "            col = int(input(\"Player Red Make Selection between 0-6\\nor enter any char (ex: a,b....) to exit from game\\n\"))\n",
    "            if (col>-1 and col<=6) and validation(game_field,col):\n",
    "                row = get_next_free_row(game_field,col)\n",
    "                drop_entry_data(game_field,row,col,2)\n",
    "                if winning_move(game_field,2):\n",
    "                    #print(\"\\nRed Wins\\n\")\n",
    "                    print_game_field(game_field)\n",
    "                    print(\"\\nRed Wins\\n\")\n",
    "                    ch = input(\"Enter 1 for Restart\\nEnter any other key for Exit\\n\")\n",
    "                    clear_output(wait=True)\n",
    "                    if ch == '1':\n",
    "                        counter_op_clear = 0\n",
    "                        #clear_output(wait=True)\n",
    "                        print(\"Let's play New GAME\")\n",
    "                        game_field = create_game_field()\n",
    "                        game_over = False\n",
    "                        turn = 1\n",
    "                        flag = 2\n",
    "                    else:\n",
    "                        game_over = True\n",
    "                        clear_output(wait=True)\n",
    "                        print(\"Game Exit\\nThank You\")\n",
    "                        break\n",
    "            else:\n",
    "                print(\"You have entered In-valid choice Please enter valid choice\")\n",
    "                flag = 1           \n",
    "\n",
    "        print_game_field(game_field)\n",
    "        if flag == 0:\n",
    "            turn = 0\n",
    "            #flag = 2\n",
    "        elif flag == 1:\n",
    "            turn = 1\n",
    "            #flag = 2\n",
    "        else:\n",
    "            turn += 1\n",
    "            turn %= 2\n",
    "            #flag = 2\n",
    "\n",
    "except:\n",
    "    clear_output(wait=True)\n",
    "    print(\"Game Exit\\nThank You\")"
   ]
  },
  {
   "cell_type": "code",
   "execution_count": 13,
   "metadata": {
    "scrolled": true
   },
   "outputs": [
    {
     "data": {
      "application/javascript": [
       "IPython.notebook.execute_cells_below()"
      ],
      "text/plain": [
       "<IPython.core.display.Javascript object>"
      ]
     },
     "metadata": {},
     "output_type": "display_data"
    },
    {
     "data": {
      "application/vnd.jupyter.widget-view+json": {
       "model_id": "c64a9b173d11435a948926f6ea7c3d75",
       "version_major": 2,
       "version_minor": 0
      },
      "text/plain": [
       "Button(description='START THE GAME', style=ButtonStyle())"
      ]
     },
     "metadata": {},
     "output_type": "display_data"
    },
    {
     "data": {
      "application/vnd.jupyter.widget-view+json": {
       "model_id": "cb04d29cb7904cee945be77ef859187b",
       "version_major": 2,
       "version_minor": 0
      },
      "text/plain": [
       "Button(description='SHOW DATABASE', style=ButtonStyle())"
      ]
     },
     "metadata": {},
     "output_type": "display_data"
    },
    {
     "data": {
      "application/javascript": [
       "IPython.notebook.execute_cells_above()"
      ],
      "text/plain": [
       "<IPython.core.display.Javascript object>"
      ]
     },
     "metadata": {},
     "output_type": "display_data"
    }
   ],
   "source": [
    "from IPython.display import Javascript, display\n",
    "from ipywidgets import widgets\n",
    "\n",
    "def run_all_above(ev):\n",
    "    display(Javascript('IPython.notebook.execute_cells_above()'))\n",
    "\n",
    "button1 = widgets.Button(description=\"START THE GAME\")\n",
    "button1.on_click(run_all_above)\n",
    "display(button1)\n",
    "\n",
    "def run_all_below(ev):\n",
    "    display(Javascript('IPython.notebook.execute_cells_below()'))\n",
    "\n",
    "button2 = widgets.Button(description=\"SHOW DATABASE\")\n",
    "button2.on_click(run_all_below)\n",
    "display(button2)"
   ]
  },
  {
   "cell_type": "code",
   "execution_count": null,
   "metadata": {
    "scrolled": true
   },
   "outputs": [],
   "source": []
  }
 ],
 "metadata": {
  "kernelspec": {
   "display_name": "Python 3",
   "language": "python",
   "name": "python3"
  },
  "language_info": {
   "codemirror_mode": {
    "name": "ipython",
    "version": 3
   },
   "file_extension": ".py",
   "mimetype": "text/x-python",
   "name": "python",
   "nbconvert_exporter": "python",
   "pygments_lexer": "ipython3",
   "version": "3.7.4"
  }
 },
 "nbformat": 4,
 "nbformat_minor": 2
}
